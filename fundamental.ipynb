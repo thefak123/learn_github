{
 "cells": [
  {
   "cell_type": "markdown",
   "metadata": {},
   "source": [
    "## Common information about github"
   ]
  },
  {
   "cell_type": "code",
   "execution_count": 1,
   "metadata": {},
   "outputs": [],
   "source": [
    "# Notes : \n",
    "# - Git doesn't use version number, it uses hash instead to refer\n",
    "#    specific changes\n",
    "# - Git configurations are settings that allow you to customize how gits work (it contains multiple variables that you can customize)\n",
    "# - To see all variables in git configuration, you can use this command : git config --global --list\n",
    "# - user.name and user.email will be used by gits to give information about who has done the commit\n",
    "# - To set the configuration globally, you can use command : git config --global <variable name> <variable value>. For example : git config --global user.name \"<name>\" \n",
    "# - When you use command : git init, without any parameters. It will set the default branch called master. If you want to specify your own branch (initial branch name), \n",
    "#   you can use command : git init -b <branch name> or you can set the default branch name, by setting the global variable : git config --global init.defaultBranch <default branch name>\n",
    "# - git status command basically tell you what file you have edited, what file you have added into staging area, etc\n",
    "# - git log : list all of commit history\n",
    "# - \n"
   ]
  },
  {
   "cell_type": "markdown",
   "metadata": {},
   "source": [
    "## Areas When Working with Git"
   ]
  },
  {
   "cell_type": "code",
   "execution_count": null,
   "metadata": {},
   "outputs": [],
   "source": [
    "# Notes : \n",
    "# - Those areas are : \n",
    "#       - Working directory, this is your main project files\n",
    "#       - Staging area, this is like a rough draft space. This is where you add and remove files, when you are preparing what you want to include or update to the next version of repository\n",
    "#         When you add something on the staging area, it will create an index file inside .git \n",
    "#       - Commit history, commit in git is like a snapshot of the current project (or standalone version of the project that contains references to all files that part of commit)\n",
    "#         Commit history saved every commit that you have done before\n",
    "#       - Local repository\n",
    "# - If your file is not in the staging area and commit history, then it's called untracked file. Once your file is in staging area and commit, then it can become tracked file\n",
    "# - Every files that you want to commit, you need to add it into staging area (using git add command). So if you only want few files to be added, just only add that file into staging area\n",
    "# - Commit can be as noun or verb. As verb, it means you want to save the project version, while as noun it means the project version\n",
    "# - Tracked file can be into 2 conditions : unmodified and modified (since the last commit)\n",
    "# - When you commit multiple commits, the second commit will have parent, that is the first commit\n",
    "# - To see which parent the commit currently has, you can use command : git cat-file -p <commit hash>\n",
    "# - When you commit the change, the staging area will be empty"
   ]
  },
  {
   "cell_type": "markdown",
   "metadata": {},
   "source": [
    "## Branches"
   ]
  },
  {
   "cell_type": "code",
   "execution_count": null,
   "metadata": {},
   "outputs": [],
   "source": [
    "# Notes : \n",
    "# - Branch is like a standalone version of the project.\n",
    "# - git branch is used to list the local branches\n",
    "# - git branch <new branch name> is used to create a branch\n",
    "# - A new branch usually point to the commit you are currently working on\n",
    "# - HEAD is simply tell you which branch you are currently working on (it points into one of your branches, depending on what branch you are working on)\n",
    "# - To switch into specific branch, you can use command : git switch <branch name> or git checkout <branch name>\n",
    "# - When you switch the branch, these will be happened : \n",
    "#       1. It changes the HEAD pointer into the branch you are switching into\n",
    "#       2. It populates the staging area with a snapshot of the commit you are switching into (changing the staging area into the staging area and the commit of the new branch)\n",
    "#       3. It copies the content of the staging area into the working directory (the staging area of the new branch files will be copied into working directory or directory you are currently working on)"
   ]
  },
  {
   "cell_type": "markdown",
   "metadata": {},
   "source": [
    "## Phases"
   ]
  },
  {
   "cell_type": "code",
   "execution_count": null,
   "metadata": {},
   "outputs": [],
   "source": [
    "# Phases : \n",
    "#        Changes to files in working directory\n",
    "#               |                     ^\n",
    "#  (Get Added)  |                     | (Get unstaged from)\n",
    "#               v                     |\n",
    "#        Staging area/Added Content/Git Index\n",
    "#                           |\n",
    "#                    Are commited to\n",
    "#                           |\n",
    "#                           v\n",
    "#                 Local git repository\n",
    "#                      |        ^\n",
    "#   (Are pushed to)    |        |  (Are fetched from) \n",
    "#                      v        |\n",
    "#                 Remote git repository"
   ]
  },
  {
   "cell_type": "markdown",
   "metadata": {},
   "source": [
    "## Types of merge"
   ]
  },
  {
   "cell_type": "code",
   "execution_count": null,
   "metadata": {},
   "outputs": [],
   "source": [
    "# Notes : \n",
    "# - 2 types of merge : \n",
    "#       1. A fast-forward merge is a method of merging two branches when the target branch has not\n",
    "#          received any new commits since it was split off into another branch\n",
    "#          Example of fast forward merge : \n",
    "#          Target branch :\n",
    "#          a -> b -> c -> d\n",
    "#          Source branch : \n",
    "#          d-> e -> f -> g \n",
    "#          So because target branch doesn't have any new commit since it's splitted into source branch\n",
    "#          it can directly be combined\n",
    "#      2. three ways merge happenned when it's impossible for the source branch follows target branch. \n",
    "# - To do fast-forward merge, you can go directly into target branch, then use git merge <branch name>\n",
    "# - If your branches is applicable in fast-forward merge, you can switch between those branches\n",
    "#   without causing any problems on changing data\n",
    "# - You can refer into previous commit, by using command : git checkout <commit hash>. After you had\n",
    "#   done it, you will in detached-head state    \n",
    "# - It's not recommended to make change on the detached head state. Instead, you should checkout\n",
    "#   a new branch to modify that commit (You should only commit in the branch)\n",
    "# - To create a new branch and switch into it, you can use following command : \n",
    "#   - git switch -c <new branch name>\n",
    "#   - git checkout -b <new branch name>\n",
    "# - \n",
    "\n",
    "\n"
   ]
  },
  {
   "cell_type": "markdown",
   "metadata": {},
   "source": [
    "## Connecting into Remote"
   ]
  },
  {
   "cell_type": "code",
   "execution_count": null,
   "metadata": {},
   "outputs": [],
   "source": [
    "# Notes : \n",
    "# - When you clone remote repository into local repository, git automatically adds connection\n",
    "#   to the remote repository, called origin. Origin is a reference to the URL of the remote \n",
    "#   repository.\n",
    "# - To add connection from local into remote repository, you can use command :\n",
    "#   git remote add <shortname> <url>. This shortname is usually an origin, you can refer it later, \n",
    "#   for example : git fetch origin, git push origin main, etc\n",
    "# - You can connect into multiple remote repositories if you want, for example : \n",
    "#   git remote add origin <url a>\n",
    "#   git remote add upstream <url b>\n",
    "# - When you create branch in remote repository, it's called remote branch. After it's connected\n",
    "#   with local branch, it will have remote-tracking branch, which track the state from local repository\n",
    "#   into remote repository. If you create a commit in the local repository, it won't immediately\n",
    "#   be reflected in the remote repository. Therefore, after you create a new commit in the local \n",
    "#   repository, the remote-tracking will still refer into the commit in the remote repository\n",
    "# - An upstream branch is the remote branch that your local branch is tracking. This means that when you perform \n",
    "#   operations like git push or git pull, Git knows which remote branch to push to or pull from.\n",
    "# - If local repository has upstream branch, you can directly use command : git push (without any parameter)\n",
    "#   If you don't you need to specify which remote branch you want to push into\n",
    "# - To push the commit, you can use command :\n",
    "#   git push <shortname (for example : origin, etc)> <branch name>\n",
    "# - To push from specific current local branch into remote branch, you can use command :\n",
    "#   git push origin <local branch name>:<target remote branch>\n",
    "# - To see all of the local and remote branches, you can use command : git branch --all\n",
    "# - To see whether the upstream branch is defined, you can use command : git branch -vv\n",
    "# - \n",
    "# Notes when you push from local repository into remote repository :\n",
    "# - All of the commits will also be pushed\n",
    "# - Only your current branch will be pushed\n"
   ]
  },
  {
   "cell_type": "markdown",
   "metadata": {},
   "source": [
    "## Cloning and Fetching"
   ]
  },
  {
   "cell_type": "code",
   "execution_count": null,
   "metadata": {},
   "outputs": [],
   "source": [
    "# Notes : \n",
    "# - The command to clone other people project : git clone <remote url> <directory_name>. \n",
    "# - After you clone the project, the origin will be automatically set\n",
    "# - Origin/HEAD refers to Origin/main in the remote \n",
    "# - When other people clone your remote repository, it will get local branch from which they clone the\n",
    "#   remote branch, but he/she will get all of the remote branches\n",
    "# -     \n"
   ]
  },
  {
   "cell_type": "markdown",
   "metadata": {},
   "source": [
    "## Deleting branch"
   ]
  },
  {
   "cell_type": "code",
   "execution_count": null,
   "metadata": {},
   "outputs": [],
   "source": [
    "# Notes : \n",
    "# - When you delete a branch, it won't delete the commit history on that branch. The commits will still exist,\n",
    "#   but unreachable\n",
    "# - To completely remove the branch, you must remove local and remote branch\n",
    "# - To delete the branch, you can be in the \n",
    "# - To delete remote branch, you can use command : git push <shortname> -d <branch_name>, where -d means delete\n",
    "# - To delete local branch, you can use command : git branch -d <branch_name>\n",
    "# - "
   ]
  },
  {
   "cell_type": "markdown",
   "metadata": {},
   "source": [
    "## Fetching"
   ]
  },
  {
   "cell_type": "code",
   "execution_count": null,
   "metadata": {},
   "outputs": [],
   "source": [
    "# Notes : \n",
    "# - command : git fetch -> will only download all of commits from remote repository. But it won't\n",
    "#   directly or reflect the changes into local repository, because HEAD still points into same\n",
    "#   commit\n",
    "# - To actually update the local repository to reflect the remote repository, you need to merge\n",
    "#   the local and remote repository. For example : "
   ]
  },
  {
   "cell_type": "markdown",
   "metadata": {},
   "source": [
    "## Branches"
   ]
  },
  {
   "cell_type": "markdown",
   "metadata": {},
   "source": [
    "### No Branch"
   ]
  },
  {
   "cell_type": "markdown",
   "metadata": {},
   "source": [
    "### Repository with No Branches"
   ]
  },
  {
   "cell_type": "code",
   "execution_count": null,
   "metadata": {},
   "outputs": [],
   "source": [
    "# Notes : \n",
    "# 1. Repository With no branches\n",
    "# 2. Visualitazion : \n",
    "#       a <- b <- c\n",
    "#    yang paling kanan, yang paling terbaru\n",
    "# 3. Jadi commit perubahan b tergantung dari perubahan yang \n",
    "#    dilakukan oleh commit perubahan a, lalu hingga seterusnya\n",
    "# 4. a <- b <- c dinamakan main line"
   ]
  },
  {
   "cell_type": "markdown",
   "metadata": {},
   "source": [
    "### With Branches"
   ]
  },
  {
   "cell_type": "code",
   "execution_count": null,
   "metadata": {},
   "outputs": [],
   "source": [
    "# Notes : \n",
    "# 1. Let's you want to experiment with one of the changes without\n",
    "#    any effect into main line\n",
    "# 2. Let's say, there is a graph something like this : \n",
    "#    a <- b <- c <- d <- e ----> e is head/master\n",
    "#         |\n",
    "#         f is branch from changes of b\n",
    "# 3. If you do some expermentation to the f, it won't affect \n",
    "#    main line"
   ]
  },
  {
   "cell_type": "markdown",
   "metadata": {},
   "source": [
    "## Upstream and Downstream"
   ]
  },
  {
   "cell_type": "code",
   "execution_count": null,
   "metadata": {},
   "outputs": [],
   "source": [
    "# Upstream means you push some changes to the remote repository\n",
    "# Downstream means you pull something from remote repository"
   ]
  },
  {
   "cell_type": "markdown",
   "metadata": {},
   "source": [
    "## Inside .git folder"
   ]
  },
  {
   "cell_type": "code",
   "execution_count": null,
   "metadata": {},
   "outputs": [],
   "source": [
    "# HEAD file means the current branch you are working on\n",
    "# Config file means information about your local repository configuration"
   ]
  },
  {
   "cell_type": "markdown",
   "metadata": {},
   "source": [
    "## Git commands"
   ]
  },
  {
   "cell_type": "code",
   "execution_count": null,
   "metadata": {},
   "outputs": [],
   "source": [
    "# git log -> to see the history of current repository (You)\n",
    "# git status -> to look where the repository points to ? (which branches) and to see if your files is commited or not\n",
    "# git add -> add files into staging area \n",
    "# git commit <parameters> -> add the files from staging area into local repository, parameters : \n",
    "#       1. -m -> give a message\n",
    "#       2. -a -> commit changes to file and add it to the same time\n",
    "# git diff -> to see anything changes from your local repository\n",
    "# "
   ]
  },
  {
   "cell_type": "markdown",
   "metadata": {},
   "source": []
  }
 ],
 "metadata": {
  "kernelspec": {
   "display_name": "Python 3",
   "language": "python",
   "name": "python3"
  },
  "language_info": {
   "codemirror_mode": {
    "name": "ipython",
    "version": 3
   },
   "file_extension": ".py",
   "mimetype": "text/x-python",
   "name": "python",
   "nbconvert_exporter": "python",
   "pygments_lexer": "ipython3",
   "version": "3.9.5"
  }
 },
 "nbformat": 4,
 "nbformat_minor": 2
}
